{
 "cells": [
  {
   "cell_type": "markdown",
   "metadata": {},
   "source": [
    "## TDA: Persistent Homology \n",
    "\n",
    "Here we explore the various PH algorithms that are integrated into the TDA toolkit.  These include;\n",
    "- DIPHA; https://github.com/DIPHA/dipha\n",
    "- RIPSER; https://github.com/Ripser\n",
    "- Cubical RIPSER; https://github.com/CubicalRipser\n",
    "- PERSEUS; http://people.maths.ox.ac.uk/nanda/perseus/index.html\n",
    "- PHAT; https://github.com/blazs/phat\n",
    "\n"
   ]
  },
  {
   "cell_type": "code",
   "execution_count": 3,
   "metadata": {},
   "outputs": [
    {
     "data": {
      "text/plain": [
       "['CubicalRipser2D',\n",
       " 'CubicalRipser3D',\n",
       " 'Perseus',\n",
       " 'Ripser',\n",
       " '__doc__',\n",
       " '__file__',\n",
       " '__loader__',\n",
       " '__name__',\n",
       " '__package__',\n",
       " '__spec__']"
      ]
     },
     "execution_count": 3,
     "metadata": {},
     "output_type": "execute_result"
    }
   ],
   "source": [
    "#  Import the TDA toolkit\n",
    "import tda.tda as TDA\n",
    "\n",
    "#  Here are the available classes and methods in TDA:\n",
    "dir(TDA)"
   ]
  },
  {
   "cell_type": "markdown",
   "metadata": {},
   "source": [
    "There are currently 4 Persistent Homology classes; CubicalRipser2D, CubicalRipser3D, Perseus and Ripser.  Each of them have a default constructor, destructor and a ComputeBarcode() method:"
   ]
  },
  {
   "cell_type": "code",
   "execution_count": 9,
   "metadata": {},
   "outputs": [
    {
     "data": {
      "text/plain": [
       "['ComputeBarcode',\n",
       " '__class__',\n",
       " '__delattr__',\n",
       " '__dir__',\n",
       " '__doc__',\n",
       " '__eq__',\n",
       " '__format__',\n",
       " '__ge__',\n",
       " '__getattribute__',\n",
       " '__gt__',\n",
       " '__hash__',\n",
       " '__init__',\n",
       " '__init_subclass__',\n",
       " '__le__',\n",
       " '__lt__',\n",
       " '__module__',\n",
       " '__ne__',\n",
       " '__new__',\n",
       " '__reduce__',\n",
       " '__reduce_ex__',\n",
       " '__repr__',\n",
       " '__setattr__',\n",
       " '__sizeof__',\n",
       " '__str__',\n",
       " '__subclasshook__']"
      ]
     },
     "execution_count": 9,
     "metadata": {},
     "output_type": "execute_result"
    }
   ],
   "source": [
    "dir(TDA.CubicalRipser2D)"
   ]
  },
  {
   "cell_type": "markdown",
   "metadata": {},
   "source": [
    "Let's examine each of these PH functions.  First, CubicalRipser2D takes the following function arguments;\n",
    "\n",
    "**CubicalRipser2D(string input_file, string output_file, string format, string method, double threshold, bool print)**\n",
    "\n",
    "Where the input file is either DIPHA or PERSEUS formatted file with the 2D persistence image condensed into a single vector.  Format is either DIPHA\n"
   ]
  },
  {
   "cell_type": "code",
   "execution_count": null,
   "metadata": {},
   "outputs": [],
   "source": []
  }
 ],
 "metadata": {
  "kernelspec": {
   "display_name": "Python 3",
   "language": "python",
   "name": "python3"
  },
  "language_info": {
   "codemirror_mode": {
    "name": "ipython",
    "version": 3
   },
   "file_extension": ".py",
   "mimetype": "text/x-python",
   "name": "python",
   "nbconvert_exporter": "python",
   "pygments_lexer": "ipython3",
   "version": "3.6.5"
  }
 },
 "nbformat": 4,
 "nbformat_minor": 2
}
